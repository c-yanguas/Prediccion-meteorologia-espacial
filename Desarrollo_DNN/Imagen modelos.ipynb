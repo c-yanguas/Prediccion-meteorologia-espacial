{
 "cells": [
  {
   "cell_type": "code",
   "execution_count": 2,
   "metadata": {},
   "outputs": [
    {
     "name": "stdout",
     "output_type": "stream",
     "text": [
      "('Failed to import pydot. You must `pip install pydot` and install graphviz (https://graphviz.gitlab.io/download/), ', 'for `pydotprint` to work.')\n"
     ]
    }
   ],
   "source": [
    "import tensorflow as tf\n",
    "from tensorflow import keras\n",
    "from keras.utils.vis_utils import plot_model\n",
    "from tensorflow.keras.layers import *\n",
    "from tensorflow.keras.models import Sequential\n",
    "\n",
    "input_timesteps = 40\n",
    "output_timesteps = 4\n",
    "num_links = num_inputs = 7\n",
    "model = Sequential()\n",
    "model.add(BatchNormalization(name = 'batch_norm_0', input_shape = (input_timesteps, num_inputs, 1, 1)))\n",
    "model.add(ConvLSTM2D(name ='conv_lstm_1',\n",
    "                      filters = 64, kernel_size = (10, 1),                       \n",
    "                      padding = 'same', \n",
    "                      return_sequences = False))\n",
    "\n",
    "model.add(Dropout(0.30, name = 'dropout_1'))\n",
    "model.add(BatchNormalization(name = 'batch_norm_1'))\n",
    "\n",
    "\n",
    "model.add(Flatten())\n",
    "model.add(RepeatVector(output_timesteps))\n",
    "model.add(Reshape((output_timesteps, num_inputs, 1, 64)))\n",
    "\n",
    "\n",
    "model.add(ConvLSTM2D(name ='conv_lstm',\n",
    "                      filters = 64, kernel_size = (5, 1), \n",
    "                      padding='same',\n",
    "                      return_sequences = True))\n",
    "\n",
    "model.add(TimeDistributed(Dense(units=1, name = 'dense_1', activation = 'relu')))\n",
    "model.add(Dense(units=1, name = 'dense_2'))\n",
    "\n",
    "tf.keras.utils.plot_model(model, to_file='imagen_modelo_simple.png', show_shapes=True, show_layer_names=True)"
   ]
  },
  {
   "cell_type": "code",
   "execution_count": null,
   "metadata": {},
   "outputs": [],
   "source": []
  }
 ],
 "metadata": {
  "kernelspec": {
   "display_name": "Python 3",
   "language": "python",
   "name": "python3"
  },
  "language_info": {
   "codemirror_mode": {
    "name": "ipython",
    "version": 3
   },
   "file_extension": ".py",
   "mimetype": "text/x-python",
   "name": "python",
   "nbconvert_exporter": "python",
   "pygments_lexer": "ipython3",
   "version": "3.8.3"
  }
 },
 "nbformat": 4,
 "nbformat_minor": 4
}
